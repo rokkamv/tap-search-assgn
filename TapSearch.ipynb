{
 "cells": [
  {
   "cell_type": "code",
   "execution_count": 1,
   "metadata": {},
   "outputs": [],
   "source": [
    "from nltk import word_tokenize"
   ]
  },
  {
   "cell_type": "code",
   "execution_count": null,
   "metadata": {},
   "outputs": [],
   "source": [
    "def clear(text,doc_arr,docs):\n",
    "    text,doc_arr,docs=\"\",[],{}\n",
    "    return text,doc_arr,docs\n",
    "    \n",
    "def preprocess(text):\n",
    "    doc_arr=[]\n",
    "    lowtext=text.lower()\n",
    "    doc_arr=lowtext.split('\\n\\n')\n",
    "    return doc_arr\n",
    "    \n",
    "def index(doc_arr):\n",
    "    docs,c={},1\n",
    "    for doc in doc_arr:\n",
    "        docs[\"Paragraph_\"+str(c)]=word_tokenize(doc)\n",
    "        c+=1\n",
    "    return docs\n",
    "\n",
    "def search(word,docs):\n",
    "    locs=[]\n",
    "    for d_id,d_val in docs.items():\n",
    "        if word.lower() in d_val:\n",
    "            locs.append(d_id)\n",
    "    print(\"'\"+word+\"' found in-\")\n",
    "    print(str(locs[:10]))\n",
    "       \n",
    "\n",
    "inp=input(\"Enter 0 to to upload a text file or 1 to input text: \")\n",
    "if inp==str(0):    \n",
    "    filename=input(\"Enter file name: \")\n",
    "    text=open(filename).read()\n",
    "else:\n",
    "    text=input(\"Enter the text:\")\n",
    "doc_arr=preprocess(text)\n",
    "docs=index(doc_arr)\n",
    "# print('abc'+str(docs))\n",
    "choice=1\n",
    "while choice==1:\n",
    "    word=input(\"Enter a word to search for: \")\n",
    "    search(word,docs)\n",
    "    choice=input(\"Enter 0 to exit or 1 to search again: \")\n",
    "text,doc_arr,docs=clear(text,doc_arr,docs)"
   ]
  },
  {
   "cell_type": "code",
   "execution_count": null,
   "metadata": {},
   "outputs": [],
   "source": []
  }
 ],
 "metadata": {
  "kernelspec": {
   "display_name": "Python 3",
   "language": "python",
   "name": "python3"
  },
  "language_info": {
   "codemirror_mode": {
    "name": "ipython",
    "version": 3
   },
   "file_extension": ".py",
   "mimetype": "text/x-python",
   "name": "python",
   "nbconvert_exporter": "python",
   "pygments_lexer": "ipython3",
   "version": "3.7.3"
  }
 },
 "nbformat": 4,
 "nbformat_minor": 2
}
